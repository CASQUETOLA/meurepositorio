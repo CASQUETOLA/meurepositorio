{
  "nbformat": 4,
  "nbformat_minor": 0,
  "metadata": {
    "colab": {
      "provenance": [],
      "authorship_tag": "ABX9TyO2r9o136vN1OxFIW0ziShw",
      "include_colab_link": true
    },
    "kernelspec": {
      "name": "python3",
      "display_name": "Python 3"
    },
    "language_info": {
      "name": "python"
    }
  },
  "cells": [
    {
      "cell_type": "markdown",
      "metadata": {
        "id": "view-in-github",
        "colab_type": "text"
      },
      "source": [
        "<a href=\"https://colab.research.google.com/github/CASQUETOLA/meurepositorio/blob/main/Aula_git.ipynb\" target=\"_parent\"><img src=\"https://colab.research.google.com/assets/colab-badge.svg\" alt=\"Open In Colab\"/></a>"
      ]
    },
    {
      "cell_type": "code",
      "execution_count": null,
      "metadata": {
        "id": "WrdhrjYG0WaC"
      },
      "outputs": [],
      "source": [
        "materia = input(\"Qual materia quer calcular: \")\n",
        "n1 = int(input(\"Nota trbalhos: \"))\n",
        "n2 = int(input(\"Nota Mensal: \"))\n",
        "n3 = int(input(\"Nota Bimestral: \"))\n",
        "media = (n1 + n2 +n3) / 3\n",
        "print(\"A media da nota de \",materia,\" é igual a\", media)"
      ]
    },
    {
      "cell_type": "code",
      "source": [
        "num=int(input(\"Escolha uma tabuada: \"))\n",
        "for n in range(1,11):\n",
        "    print(num, \"x\", n,\"=\",num*n)"
      ],
      "metadata": {
        "id": "TY5nLeKr5gdm"
      },
      "execution_count": null,
      "outputs": []
    },
    {
      "cell_type": "code",
      "source": [
        "palavra = input(\"Escolhe uma palavra:\")\n",
        "print(len(palavra))"
      ],
      "metadata": {
        "id": "S-KKrYfy3hb2"
      },
      "execution_count": null,
      "outputs": []
    }
  ]
}